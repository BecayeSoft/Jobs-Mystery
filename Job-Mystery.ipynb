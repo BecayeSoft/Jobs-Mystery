{
 "cells": [
  {
   "cell_type": "code",
   "execution_count": 97,
   "metadata": {
    "collapsed": true
   },
   "outputs": [],
   "source": [
    "# !pip install selenium"
   ]
  },
  {
   "cell_type": "markdown",
   "source": [
    "# Scraping Job info from LinkedIn\n",
    "\n",
    "<a href=\"https://medium.com/nerd-for-tech/linked-in-web-scraper-using-selenium-15189959b3ba\">Tutorial here.</a>\n"
   ],
   "metadata": {
    "collapsed": false
   }
  },
  {
   "cell_type": "code",
   "execution_count": 98,
   "outputs": [
    {
     "name": "stderr",
     "output_type": "stream",
     "text": [
      "C:\\Users\\balde\\AppData\\Local\\Temp\\ipykernel_6688\\343486925.py:12: DeprecationWarning: executable_path has been deprecated, please pass in a Service object\n",
      "  driver = webdriver.Chrome(executable_path=driver_path)\n"
     ]
    }
   ],
   "source": [
    "import os\n",
    "import time\n",
    "import logging\n",
    "\n",
    "from selenium import webdriver\n",
    "from selenium.webdriver.common.keys import Keys\n",
    "from selenium.webdriver.common.by import By\n",
    "from selenium.webdriver.support.ui import WebDriverWait\n",
    "from selenium.webdriver.support import expected_conditions as EC\n",
    "from selenium.common.exceptions import TimeoutException, NoSuchElementException\n",
    "\n",
    "driver_path = \"geckodriver.exe\"\n",
    "driver = webdriver.Chrome(executable_path=driver_path)"
   ],
   "metadata": {
    "collapsed": false
   }
  },
  {
   "cell_type": "markdown",
   "source": [
    "## Authentication"
   ],
   "metadata": {
    "collapsed": false
   }
  },
  {
   "cell_type": "code",
   "execution_count": 212,
   "outputs": [],
   "source": [
    "# Set up environment variables in Powershell:\n",
    "\n",
    "# $Env:Email = \"email\"\n",
    "# echo $Env:Email"
   ],
   "metadata": {
    "collapsed": false
   }
  },
  {
   "cell_type": "code",
   "execution_count": 215,
   "outputs": [
    {
     "name": "stdout",
     "output_type": "stream",
     "text": [
      "None\n"
     ]
    }
   ],
   "source": [
    "delay = 5\n",
    "\n",
    "# set credentials:\n",
    "email = os.getenv('Email')\n",
    "password = os.getenv('Password')\n",
    "print(email)"
   ],
   "metadata": {
    "collapsed": false
   }
  },
  {
   "cell_type": "code",
   "execution_count": 189,
   "outputs": [
    {
     "ename": "NameError",
     "evalue": "name 'os' is not defined",
     "output_type": "error",
     "traceback": [
      "\u001B[1;31m---------------------------------------------------------------------------\u001B[0m",
      "\u001B[1;31mNameError\u001B[0m                                 Traceback (most recent call last)",
      "Cell \u001B[1;32mIn[189], line 2\u001B[0m\n\u001B[0;32m      1\u001B[0m \u001B[38;5;66;03m# set credentials:\u001B[39;00m\n\u001B[1;32m----> 2\u001B[0m db_username \u001B[38;5;241m=\u001B[39m \u001B[43mos\u001B[49m\u001B[38;5;241m.\u001B[39menviron\u001B[38;5;241m.\u001B[39mget(\u001B[38;5;124m'\u001B[39m\u001B[38;5;124mEmail\u001B[39m\u001B[38;5;124m'\u001B[39m)\n\u001B[0;32m      3\u001B[0m db_password \u001B[38;5;241m=\u001B[39m os\u001B[38;5;241m.\u001B[39menviron\u001B[38;5;241m.\u001B[39mget(\u001B[38;5;124m'\u001B[39m\u001B[38;5;124mPassword\u001B[39m\u001B[38;5;124m'\u001B[39m)\n\u001B[0;32m      4\u001B[0m email \u001B[38;5;241m=\u001B[39m \u001B[38;5;124m\"\u001B[39m\u001B[38;5;124mbaldebecaye10@gmail.com\u001B[39m\u001B[38;5;124m\"\u001B[39m\n",
      "\u001B[1;31mNameError\u001B[0m: name 'os' is not defined"
     ]
    }
   ],
   "source": [
    "# Go to linkedin and login\n",
    "driver.get('https://www.linkedin.com/login')\n",
    "\n",
    "# TODO: Use event listeners\n",
    "# wait for the browser to load elements\n",
    "time.sleep(delay)\n",
    "\n",
    "driver.find_element(By.ID, \"username\").send_keys(email)\n",
    "driver.find_element(By.ID, \"password\").send_keys(password, Keys.ENTER)"
   ],
   "metadata": {
    "collapsed": false
   }
  },
  {
   "cell_type": "markdown",
   "source": [
    "## Search jobs by title and location"
   ],
   "metadata": {
    "collapsed": false
   }
  },
  {
   "cell_type": "code",
   "execution_count": 100,
   "outputs": [],
   "source": [
    "job_title = \"data science\"\n",
    "job_location = \"canada\""
   ],
   "metadata": {
    "collapsed": false
   }
  },
  {
   "cell_type": "code",
   "execution_count": 101,
   "outputs": [],
   "source": [
    "# driver.get(\"https://www.linkedin.com/jobs/\")\n",
    "# time.sleep(delay)\n",
    "#\n",
    "# # find the keyword search bars, then fill it\n",
    "# search_by_keyword_bar = driver.find_element(By.ID, \"jobs-search-box-keyword-id-ember22\")\n",
    "# search_by_keyword_bar.send_keys(job_title)\n",
    "#\n",
    "# # TODO use listener instead of 3 seconds sleep\n",
    "# # find the location search bars, fill it, enter\n",
    "# time.sleep(delay)\n",
    "# search_by_location_bar = driver.find_element(By.ID, \"jobs-search-box-location-id-ember22\")\n",
    "# search_by_location_bar.send_keys(job_location, Keys.RETURN)"
   ],
   "metadata": {
    "collapsed": false
   }
  },
  {
   "cell_type": "markdown",
   "source": [
    "### Alternative"
   ],
   "metadata": {
    "collapsed": false
   }
  },
  {
   "cell_type": "code",
   "execution_count": 126,
   "outputs": [],
   "source": [
    "def wait_till_element_ready(by, selector):\n",
    "    \"\"\"\n",
    "    Wait for a given element to be ready\n",
    "\n",
    "    :param by: the selector strategy. E.g.: By.ID, By.CLASS_NAME, etc.\n",
    "    :param selector: the CSS selector according to the \"By\" strategy. E.g.: 'class name', 'id', etc.\n",
    "    :return:\n",
    "    \"\"\"\n",
    "\n",
    "    colors = {'WARNING': '\\033[93m', 'ERROR': '\\033[91m'}\n",
    "    try:\n",
    "        WebDriverWait(driver, 8).until(EC.presence_of_element_located((by, selector)))\n",
    "        time.sleep(delay)\n",
    "    except TimeoutException:\n",
    "        print(colors['WARNING'] + \"Warning: Element has not been loaded!\")\n",
    "        pass"
   ],
   "metadata": {
    "collapsed": false
   }
  },
  {
   "cell_type": "code",
   "execution_count": 122,
   "outputs": [
    {
     "name": "stdout",
     "output_type": "stream",
     "text": [
      "Found 5 search_bars\n"
     ]
    }
   ],
   "source": [
    "driver.get(\"https://www.linkedin.com/jobs/\")\n",
    "# time.sleep(delay)\n",
    "\n",
    "# find the two search boxes: title and location\n",
    "wait_till_element_ready(By.CLASS_NAME, \"jobs-search-box__text-input\")\n",
    "search_bars = driver.find_elements(By.CLASS_NAME, \"jobs-search-box__text-input\")\n",
    "print('Found', len(search_bars), 'search_bars')\n",
    "\n",
    "# enter job title in the search  by keyword bar\n",
    "search_by_keyword_bar = search_bars[0]\n",
    "search_by_keyword_bar.send_keys(job_title)\n",
    "\n",
    "# enter job location in the search by location bar\n",
    "search_by_location_bar = search_bars[3]\n",
    "search_by_location_bar.send_keys(job_location, Keys.RETURN)"
   ],
   "metadata": {
    "collapsed": false
   }
  },
  {
   "cell_type": "markdown",
   "source": [
    "## Get the Jobs Info"
   ],
   "metadata": {
    "collapsed": false
   }
  },
  {
   "cell_type": "code",
   "execution_count": 123,
   "outputs": [],
   "source": [
    "def get_job_skills():\n",
    "\n",
    "    # click display skills popup\n",
    "    wait_till_element_ready(By.CLASS_NAME, 'jobs-unified-top-card__job-insight-text-button')\n",
    "    # time.sleep(delay)\n",
    "    view_skills_button = driver.find_element(By.CLASS_NAME, 'jobs-unified-top-card__job-insight-text-button')\n",
    "    view_skills_button.click()\n",
    "\n",
    "    # get skills list\n",
    "    wait_till_element_ready(By.CLASS_NAME, \"job-details-skill-match-status-list\")\n",
    "    # time.sleep(delay)\n",
    "    skills_list = driver.find_element(By.CLASS_NAME, 'job-details-skill-match-status-list')\n",
    "\n",
    "    # get clean skills list\n",
    "    skills_list_clean = skills_list.text.split('\\n')\n",
    "    skills_list_clean = list(filter(lambda skill: skill != 'Add', skills_list_clean))\n",
    "\n",
    "    # close the skills list popup\n",
    "    wait_till_element_ready(By.CLASS_NAME, 'artdeco-modal__dismiss')\n",
    "    # time.sleep(delay)\n",
    "    close_popup_button = driver.find_element(By.CLASS_NAME, 'artdeco-modal__dismiss')\n",
    "    close_popup_button.click()\n",
    "\n",
    "    return skills_list_clean\n"
   ],
   "metadata": {
    "collapsed": false
   }
  },
  {
   "cell_type": "code",
   "execution_count": 124,
   "outputs": [
    {
     "name": "stdout",
     "output_type": "stream",
     "text": [
      "Issue: Element has not been loaded!\n",
      "Clean skills list: ['Batch Processing', 'Big Data', 'Computer Science', 'Data Architecture', 'Data Governance', 'Data Integration', 'Data Modeling', 'Extract, Transform, Load (ETL)', 'Informatica', 'Statutory Accounting Principles (SAP)']\n",
      "Issue: Element has not been loaded!\n",
      "Clean skills list: ['Data Science', 'Machine Learning', 'Computer Science', 'Human Computer Interaction', 'Natural Language Processing (NLP)', 'Pattern Recognition', 'Polymerase Chain Reaction (PCR)', 'Programming', 'Programming Languages', 'Team Motivation']\n",
      "Issue: Element has not been loaded!\n",
      "Clean skills list: ['Commercial Software', 'Communication', 'IT Operations', 'Information Technology', 'Mobile Communications', 'Printers', 'Problem Solving', 'Queues', 'Receptions', 'Repositories']\n",
      "Issue: Element has not been loaded!\n",
      "Clean skills list: ['Computer Hardware', 'Computer Information Systems', 'Information Technology', 'Interpersonal Communication', 'Laptops', 'Live Streaming', 'Local Area Network (LAN)', 'Office 365', 'Registered Retirement Savings Plan (RRSP)', 'Resolving Issues']\n",
      "Issue: Element has not been loaded!\n",
      "Clean skills list: ['Data Science', 'Databases', 'Communication', 'Computer Science', 'Extract, Transform, Load (ETL)', 'Gitlab', 'Presentation Skills', 'Presentations', 'Problem Solving', 'Systems Design']\n",
      "Issue: Element has not been loaded!\n",
      "Clean skills list: ['Alexa', 'Android', 'Artificial Intelligence (AI)', 'Data Collection', 'French', 'Reconnaissance', 'Smartphones', 'Storage Area Network (SAN)', 'iPhone']\n",
      "Issue: Element has not been loaded!\n",
      "Clean skills list: ['Microsoft Excel', 'Assurance Services', 'Avant-garde', 'Communication', 'Ensemble', 'Information Extraction', 'Management Information Systems (MIS)', 'Microsoft Office', 'Microsoft PowerPoint', 'Proposition']\n",
      "Issue: Element has not been loaded!\n",
      "Clean skills list: ['Bose', 'Data Structures', 'Digital Signal Processing', 'Linear Algebra', 'Machine Operation', 'Signal', 'Signal Processing', 'Speech Enhancement', 'TensorFlow', 'Version Control']\n",
      "Issue: Element has not been loaded!\n",
      "Clean skills list: ['Analytical Skills', '3GPP', '6G', 'Communication', 'MATLAB', 'PHY', 'Simulations', 'Wireless Engineering', 'Wireless Technologies', 'Writing']\n",
      "Issue: Element has not been loaded!\n",
      "Clean skills list: ['Communication', 'Computer Science', 'Cursors', 'Database Triggers', 'ETL Tools', 'Extract, Transform, Load (ETL)', 'Interpersonal Skills', 'Microsoft SQL Server', 'SQL Server Integration Services (SSIS)', 'Stored Procedures']\n",
      "Issue: Element has not been loaded!\n",
      "Clean skills list: ['Data Science', 'Data Visualization', 'Deep Learning', 'Analytics', 'Artificial Intelligence (AI)', 'Data Engineering', 'Natural Language Processing (NLP)', 'R (Programming Language)', 'Statistical Modeling', 'Statistics']\n",
      "Issue: Element has not been loaded!\n",
      "Clean skills list: ['Analytical Skills', 'Data Analysis', 'Communication', 'English', 'Organization Skills', 'Problem Solving', 'Research', 'Social Media', 'Team Leadership', 'Teamwork']\n",
      "Issue: Element has not been loaded!\n",
      "Clean skills list: ['Cascading Style Sheets (CSS)', 'Communication', 'Computer Science', 'Container Orchestration', 'Jupyter', 'MLOps', 'Microsoft SQL Server', 'Software Implementation', 'Software Infrastructure', 'Wireless Engineering']\n",
      "Issue: Element has not been loaded!\n",
      "Clean skills list: ['Calculations', 'Communication', 'Daily Reports', 'Electrical Engineering', 'Field Operations', 'Job Safety', 'Mechanical Engineering', 'RFI', 'Record Keeping', 'Technical Drawing']\n",
      "Issue: Element has not been loaded!\n",
      "Clean skills list: ['Databases', 'Python (Programming Language)', 'SQL', 'Azure Data Factory', 'GitHub', 'Jenkins', 'Jira', 'Microsoft Azure', 'Relational Databases', 'Unit Testing']\n",
      "Issue: Element has not been loaded!\n"
     ]
    },
    {
     "ename": "ValueError",
     "evalue": "not enough values to unpack (expected 4, got 1)",
     "output_type": "error",
     "traceback": [
      "\u001B[1;31m---------------------------------------------------------------------------\u001B[0m",
      "\u001B[1;31mValueError\u001B[0m                                Traceback (most recent call last)",
      "Cell \u001B[1;32mIn[124], line 17\u001B[0m\n\u001B[0;32m     13\u001B[0m job\u001B[38;5;241m.\u001B[39mclick()\n\u001B[0;32m     14\u001B[0m \u001B[38;5;66;03m# time.sleep(delay)\u001B[39;00m\n\u001B[0;32m     15\u001B[0m \n\u001B[0;32m     16\u001B[0m \u001B[38;5;66;03m# get the position company, location, and remote/on-site\u001B[39;00m\n\u001B[1;32m---> 17\u001B[0m [position, company, location, work_mode] \u001B[38;5;241m=\u001B[39m job\u001B[38;5;241m.\u001B[39mtext\u001B[38;5;241m.\u001B[39msplit(\u001B[38;5;124m'\u001B[39m\u001B[38;5;130;01m\\n\u001B[39;00m\u001B[38;5;124m'\u001B[39m)[:\u001B[38;5;241m4\u001B[39m]\n\u001B[0;32m     19\u001B[0m \u001B[38;5;66;03m# get skills list for the job\u001B[39;00m\n\u001B[0;32m     20\u001B[0m skills \u001B[38;5;241m=\u001B[39m get_job_skills()\n",
      "\u001B[1;31mValueError\u001B[0m: not enough values to unpack (expected 4, got 1)"
     ]
    }
   ],
   "source": [
    "# Get the results of the first page\n",
    "wait_till_element_ready(By.CLASS_NAME, \"jobs-search-results__list-item\")\n",
    "# time.sleep(delay)\n",
    "jobs_list = driver.find_elements(By.CLASS_NAME, \"jobs-search-results__list-item\")\n",
    "\n",
    "jobs = []\n",
    "for job in jobs_list:\n",
    "\n",
    "    time.sleep(delay)\n",
    "    # scroll the job div into view\n",
    "    driver.execute_script(\"arguments[0].scrollIntoView();\", job)\n",
    "    job.click()\n",
    "    # time.sleep(delay)\n",
    "\n",
    "    # get the position company, location, and remote/on-site\n",
    "    try:\n",
    "        [position, company, location, work_mode] = job.text.split('\\n')[:4]\n",
    "        break\n",
    "    except ValueError:\n",
    "        position = job.text.split('\\n')\n",
    "        [company, location, work_mode] = ''\n",
    "        print('job.text.split Error', job.text.split('\\n'))\n",
    "\n",
    "    # get skills list for the job\n",
    "    skills = get_job_skills()\n",
    "\n",
    "    # description\n",
    "    description = driver.find_elements(By.CLASS_NAME, \"jobs-description-content__text\")\n",
    "\n",
    "    # all the details\n",
    "    # details = driver.find_element(By.ID, \"job-details\").text\n",
    "\n",
    "    # do what you want with that info...\n",
    "    jobs.append([position, company, location, work_mode, skills, description])"
   ],
   "metadata": {
    "collapsed": false
   }
  },
  {
   "cell_type": "markdown",
   "source": [
    "Profile - Profil recherché - About You\n",
    "Skills - Requirements - Position Requirements - Qualifications - Basic Qualifications - Expérience - Éxigences - Compétences - QUALITÉS\n",
    "Atouts - Preferred Qualifications - Autres exigences"
   ],
   "metadata": {
    "collapsed": false
   },
   "outputs": []
  },
  {
   "cell_type": "code",
   "execution_count": 114,
   "outputs": [
    {
     "data": {
      "text/plain": "'SQL\\nCommunication\\nAdd\\nDrones\\nAdd\\nFull-Stack Development\\nAdd\\nHTML\\nAdd\\nInformation Technology\\nAdd\\nJavaScript\\nAdd\\nNetworking\\nAdd\\nProcedural Programming\\nAdd\\nTechnical Support\\nAdd'"
     },
     "execution_count": 114,
     "metadata": {},
     "output_type": "execute_result"
    }
   ],
   "source": [
    "jobs[0][4]"
   ],
   "metadata": {
    "collapsed": false
   }
  },
  {
   "cell_type": "markdown",
   "source": [
    "# Connect to SQL Server"
   ],
   "metadata": {
    "collapsed": false
   }
  },
  {
   "cell_type": "code",
   "execution_count": 154,
   "outputs": [],
   "source": [
    "# !pip install pypyodbc"
   ],
   "metadata": {
    "collapsed": false
   }
  },
  {
   "cell_type": "code",
   "execution_count": 177,
   "outputs": [
    {
     "name": "stdout",
     "output_type": "stream",
     "text": [
      "<pypyodbc.Connection object at 0x0000025D5ECF39A0>\n"
     ]
    }
   ],
   "source": [
    "import pypyodbc as odbc\n",
    "\n",
    "DRIVER_NAME = 'SQL Server'\n",
    "SERVER_NAME = '.'\n",
    "DATABASE_NAME = 'LinkedIn'\n",
    "\n",
    "connection_string = f\"\"\"\n",
    "    DRIVER={{{DRIVER_NAME}}};\n",
    "    SERVER={{{SERVER_NAME}}};\n",
    "    DATABASE={{{DATABASE_NAME}}};\n",
    "    Trust_Connection=yes;\n",
    "\"\"\"\n",
    "\n",
    "conn = odbc.connect(connectString=connection_string)\n",
    "print(conn)"
   ],
   "metadata": {
    "collapsed": false
   }
  },
  {
   "cell_type": "code",
   "execution_count": null,
   "outputs": [],
   "source": [
    "# # Execute a sample query\n",
    "# cursor.execute('SELECT * FROM your_table_name')\n",
    "# # Fetch the results of the query\n",
    "# rows = cursor.fetchall()\n",
    "# # Print the results\n",
    "# for row in rows:\n",
    "#     print(row)"
   ],
   "metadata": {
    "collapsed": false
   }
  },
  {
   "cell_type": "markdown",
   "source": [
    "### Insert jobs into the database"
   ],
   "metadata": {
    "collapsed": false
   }
  },
  {
   "cell_type": "code",
   "execution_count": 187,
   "outputs": [],
   "source": [
    "def save_jobs(jobs):\n",
    "    \"\"\"\n",
    "    Inserts the jobs into the databse\n",
    "\n",
    "    :param jobs: jobs to be inserted\n",
    "    :return:\n",
    "    \"\"\"\n",
    "    insert_query = \"INSERT INTO Jobs (position, company, location, work_mode, skills, details) VALUES (?, ?, ?, ?, ?, ?)\"\n",
    "\n",
    "    for job in jobs:\n",
    "        position = job[0]\n",
    "        company = job[1]\n",
    "        location = job[2]\n",
    "        work_mode = job[3]\n",
    "        skills = job[4]\n",
    "        details = job[5]\n",
    "\n",
    "        # transofrm skills array to string\n",
    "        skills_str = ','.join(skills)\n",
    "\n",
    "        # Define values to be inserted\n",
    "        values = (position, company, location, work_mode, skills_str, details)\n",
    "\n",
    "        # Execute insert statement\n",
    "        cursor.execute(insert_query, values)\n",
    "\n",
    "        # Commit changes to the database\n",
    "        conn.commit()"
   ],
   "metadata": {
    "collapsed": false
   }
  },
  {
   "cell_type": "code",
   "execution_count": 188,
   "outputs": [],
   "source": [
    "# Open Connexion\n",
    "cursor = conn.cursor()\n",
    "\n",
    "# save jobs\n",
    "save_jobs(jobs)"
   ],
   "metadata": {
    "collapsed": false
   }
  },
  {
   "cell_type": "markdown",
   "source": [
    "### Close Connection"
   ],
   "metadata": {
    "collapsed": false
   }
  },
  {
   "cell_type": "code",
   "execution_count": null,
   "outputs": [],
   "source": [
    "# Close the cursor and connection\n",
    "cursor.close()\n",
    "conn.close()"
   ],
   "metadata": {
    "collapsed": false
   }
  }
 ],
 "metadata": {
  "kernelspec": {
   "display_name": "Python 3",
   "language": "python",
   "name": "python3"
  },
  "language_info": {
   "codemirror_mode": {
    "name": "ipython",
    "version": 2
   },
   "file_extension": ".py",
   "mimetype": "text/x-python",
   "name": "python",
   "nbconvert_exporter": "python",
   "pygments_lexer": "ipython2",
   "version": "2.7.6"
  }
 },
 "nbformat": 4,
 "nbformat_minor": 0
}
