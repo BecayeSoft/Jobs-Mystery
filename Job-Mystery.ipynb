{
 "cells": [
  {
   "cell_type": "code",
   "execution_count": null,
   "metadata": {
    "collapsed": true,
    "jupyter": {
     "outputs_hidden": true
    },
    "tags": []
   },
   "outputs": [],
   "source": [
    "# !pip install selenium"
   ]
  },
  {
   "cell_type": "code",
   "execution_count": 21,
   "metadata": {},
   "outputs": [
    {
     "name": "stdout",
     "output_type": "stream",
     "text": [
      "Collecting pipreqs\n",
      "  Downloading pipreqs-0.4.11-py2.py3-none-any.whl (32 kB)\n",
      "Collecting yarg\n",
      "  Downloading yarg-0.1.9-py2.py3-none-any.whl (19 kB)\n",
      "Collecting docopt\n",
      "  Downloading docopt-0.6.2.tar.gz (25 kB)\n",
      "  Preparing metadata (setup.py): started\n",
      "  Preparing metadata (setup.py): finished with status 'done'\n",
      "Requirement already satisfied: requests in c:\\users\\balde\\appdata\\local\\packages\\pythonsoftwarefoundation.python.3.10_qbz5n2kfra8p0\\localcache\\local-packages\\python310\\site-packages (from yarg->pipreqs) (2.28.1)\n",
      "Requirement already satisfied: charset-normalizer<3,>=2 in c:\\users\\balde\\appdata\\local\\packages\\pythonsoftwarefoundation.python.3.10_qbz5n2kfra8p0\\localcache\\local-packages\\python310\\site-packages (from requests->yarg->pipreqs) (2.1.1)\n",
      "Requirement already satisfied: urllib3<1.27,>=1.21.1 in c:\\users\\balde\\appdata\\local\\packages\\pythonsoftwarefoundation.python.3.10_qbz5n2kfra8p0\\localcache\\local-packages\\python310\\site-packages (from requests->yarg->pipreqs) (1.26.12)\n",
      "Requirement already satisfied: idna<4,>=2.5 in c:\\users\\balde\\appdata\\local\\packages\\pythonsoftwarefoundation.python.3.10_qbz5n2kfra8p0\\localcache\\local-packages\\python310\\site-packages (from requests->yarg->pipreqs) (2.10)\n",
      "Requirement already satisfied: certifi>=2017.4.17 in c:\\users\\balde\\appdata\\local\\packages\\pythonsoftwarefoundation.python.3.10_qbz5n2kfra8p0\\localcache\\local-packages\\python310\\site-packages (from requests->yarg->pipreqs) (2022.12.7)\n",
      "Building wheels for collected packages: docopt\n",
      "  Building wheel for docopt (setup.py): started\n",
      "  Building wheel for docopt (setup.py): finished with status 'done'\n",
      "  Created wheel for docopt: filename=docopt-0.6.2-py2.py3-none-any.whl size=13706 sha256=7389aef30bfc01fc52e3c63fad5f49830dc13004164541d28bdd296750d5a476\n",
      "  Stored in directory: c:\\users\\balde\\appdata\\local\\pip\\cache\\wheels\\fc\\ab\\d4\\5da2067ac95b36618c629a5f93f809425700506f72c9732fac\n",
      "Successfully built docopt\n",
      "Installing collected packages: docopt, yarg, pipreqs\n",
      "Successfully installed docopt-0.6.2 pipreqs-0.4.11 yarg-0.1.9\n",
      "Note: you may need to restart the kernel to use updated packages.\n"
     ]
    }
   ],
   "source": [
    "pip install pipreqs"
   ]
  },
  {
   "cell_type": "code",
   "execution_count": 22,
   "metadata": {},
   "outputs": [
    {
     "name": "stdout",
     "output_type": "stream",
     "text": [
      "Requirement already satisfied: pipreqs in c:\\users\\balde\\appdata\\local\\packages\\pythonsoftwarefoundation.python.3.10_qbz5n2kfra8p0\\localcache\\local-packages\\python310\\site-packages (0.4.11)\n",
      "Requirement already satisfied: docopt in c:\\users\\balde\\appdata\\local\\packages\\pythonsoftwarefoundation.python.3.10_qbz5n2kfra8p0\\localcache\\local-packages\\python310\\site-packages (from pipreqs) (0.6.2)\n",
      "Requirement already satisfied: yarg in c:\\users\\balde\\appdata\\local\\packages\\pythonsoftwarefoundation.python.3.10_qbz5n2kfra8p0\\localcache\\local-packages\\python310\\site-packages (from pipreqs) (0.1.9)\n",
      "Requirement already satisfied: requests in c:\\users\\balde\\appdata\\local\\packages\\pythonsoftwarefoundation.python.3.10_qbz5n2kfra8p0\\localcache\\local-packages\\python310\\site-packages (from yarg->pipreqs) (2.28.1)\n",
      "Requirement already satisfied: idna<4,>=2.5 in c:\\users\\balde\\appdata\\local\\packages\\pythonsoftwarefoundation.python.3.10_qbz5n2kfra8p0\\localcache\\local-packages\\python310\\site-packages (from requests->yarg->pipreqs) (2.10)\n",
      "Requirement already satisfied: certifi>=2017.4.17 in c:\\users\\balde\\appdata\\local\\packages\\pythonsoftwarefoundation.python.3.10_qbz5n2kfra8p0\\localcache\\local-packages\\python310\\site-packages (from requests->yarg->pipreqs) (2022.12.7)\n",
      "Requirement already satisfied: urllib3<1.27,>=1.21.1 in c:\\users\\balde\\appdata\\local\\packages\\pythonsoftwarefoundation.python.3.10_qbz5n2kfra8p0\\localcache\\local-packages\\python310\\site-packages (from requests->yarg->pipreqs) (1.26.12)\n",
      "Requirement already satisfied: charset-normalizer<3,>=2 in c:\\users\\balde\\appdata\\local\\packages\\pythonsoftwarefoundation.python.3.10_qbz5n2kfra8p0\\localcache\\local-packages\\python310\\site-packages (from requests->yarg->pipreqs) (2.1.1)\n",
      "Note: you may need to restart the kernel to use updated packages.\n"
     ]
    }
   ],
   "source": [
    "pip install pipreqs"
   ]
  },
  {
   "cell_type": "markdown",
   "metadata": {},
   "source": [
    "# Scraping Job info from LinkedIn\n",
    "\n",
    "<a href=\"https://medium.com/nerd-for-tech/linked-in-web-scraper-using-selenium-15189959b3ba\">Tutorial here.</a>\n"
   ]
  },
  {
   "cell_type": "code",
   "execution_count": null,
   "metadata": {
    "collapsed": false,
    "jupyter": {
     "outputs_hidden": false
    }
   },
   "outputs": [
    {
     "name": "stderr",
     "output_type": "stream",
     "text": [
      "C:\\Users\\balde\\AppData\\Local\\Temp\\ipykernel_23656\\3879882641.py:15: DeprecationWarning: executable_path has been deprecated, please pass in a Service object\n",
      "  driver = webdriver.Chrome(executable_path=driver_path)\n"
     ]
    }
   ],
   "source": [
    "import os\n",
    "import time\n",
    "import logging\n",
    "\n",
    "from selenium import webdriver\n",
    "from selenium.webdriver.common.keys import Keys\n",
    "from selenium.webdriver.common.by import By\n",
    "from selenium.webdriver.support.ui import WebDriverWait\n",
    "from selenium.webdriver.support import expected_conditions as EC\n",
    "from selenium.common.exceptions import TimeoutException, NoSuchElementException\n",
    "from dotenv import load_dotenv\n",
    "\n",
    "\n",
    "driver_path = \"geckodriver.exe\"\n",
    "driver = webdriver.Chrome(executable_path=driver_path)"
   ]
  },
  {
   "cell_type": "markdown",
   "metadata": {},
   "source": [
    "## Authentication"
   ]
  },
  {
   "cell_type": "code",
   "execution_count": null,
   "metadata": {
    "collapsed": false,
    "jupyter": {
     "outputs_hidden": false
    }
   },
   "outputs": [],
   "source": [
    "# Set up environment variables in Powershell:\n",
    "\n",
    "# $Env:Email = \"email\"\n",
    "# echo $Env:Email"
   ]
  },
  {
   "cell_type": "code",
   "execution_count": null,
   "metadata": {
    "collapsed": false,
    "jupyter": {
     "outputs_hidden": false
    }
   },
   "outputs": [
    {
     "name": "stdout",
     "output_type": "stream",
     "text": [
      "baldebecaye10@gmail.com\n"
     ]
    }
   ],
   "source": [
    "delay = 5\n",
    "\n",
    "# load the credentials\n",
    "load_dotenv('credentials.env')\n",
    "\n",
    "# set credentials:\n",
    "email = os.getenv('Email')\n",
    "password = os.getenv('Password')\n",
    "print(email)"
   ]
  },
  {
   "cell_type": "code",
   "execution_count": null,
   "metadata": {
    "collapsed": false,
    "jupyter": {
     "outputs_hidden": false
    }
   },
   "outputs": [],
   "source": [
    "# Go to linkedin and login\n",
    "driver.get('https://www.linkedin.com/login')\n",
    "\n",
    "# TODO: Use event listeners\n",
    "# wait for the browser to load elements\n",
    "time.sleep(delay)\n",
    "\n",
    "driver.find_element(By.ID, \"username\").send_keys(email)\n",
    "driver.find_element(By.ID, \"password\").send_keys(password, Keys.ENTER)"
   ]
  },
  {
   "cell_type": "markdown",
   "metadata": {},
   "source": [
    "## Search jobs by title and location"
   ]
  },
  {
   "cell_type": "code",
   "execution_count": null,
   "metadata": {
    "collapsed": false,
    "jupyter": {
     "outputs_hidden": false
    }
   },
   "outputs": [],
   "source": [
    "job_title = \"data science\"\n",
    "job_location = \"canada\""
   ]
  },
  {
   "cell_type": "code",
   "execution_count": null,
   "metadata": {
    "collapsed": false,
    "jupyter": {
     "outputs_hidden": false
    }
   },
   "outputs": [],
   "source": [
    "def wait_till_element_ready(by, selector):\n",
    "    \"\"\"\n",
    "    Wait for a given element to be ready\n",
    "\n",
    "    :param by: the selector strategy. E.g.: By.ID, By.CLASS_NAME, etc.\n",
    "    :param selector: the CSS selector according to the \"By\" strategy. E.g.: 'class name', 'id', etc.\n",
    "    :return:\n",
    "    \"\"\"\n",
    "\n",
    "    colors = {'WARNING': '\\033[93m', 'ERROR': '\\033[91m'}\n",
    "    try:\n",
    "        WebDriverWait(driver, 8).until(EC.presence_of_element_located((by, selector)))\n",
    "        time.sleep(delay)\n",
    "    except TimeoutException:\n",
    "        print(colors['WARNING'] + \"Warning: Element has not been loaded!\")\n",
    "        pass"
   ]
  },
  {
   "cell_type": "code",
   "execution_count": null,
   "metadata": {
    "collapsed": false,
    "jupyter": {
     "outputs_hidden": false
    }
   },
   "outputs": [
    {
     "name": "stdout",
     "output_type": "stream",
     "text": [
      "Found 5 search_bars\n"
     ]
    }
   ],
   "source": [
    "driver.get(\"https://www.linkedin.com/jobs/\")\n",
    "# time.sleep(delay)\n",
    "\n",
    "# find the two search boxes: title and location\n",
    "wait_till_element_ready(By.CLASS_NAME, \"jobs-search-box__text-input\")\n",
    "search_bars = driver.find_elements(By.CLASS_NAME, \"jobs-search-box__text-input\")\n",
    "print('Found', len(search_bars), 'search_bars')\n",
    "\n",
    "# enter job title in the search  by keyword bar\n",
    "search_by_keyword_bar = search_bars[0]\n",
    "search_by_keyword_bar.send_keys(job_title)\n",
    "\n",
    "time.sleep(3)\n",
    "# enter job location in the search by location bar\n",
    "search_by_location_bar = search_bars[3]\n",
    "search_by_location_bar.send_keys(job_location, Keys.RETURN)"
   ]
  },
  {
   "cell_type": "markdown",
   "metadata": {},
   "source": [
    "## Get other Pages"
   ]
  },
  {
   "cell_type": "code",
   "execution_count": null,
   "metadata": {
    "collapsed": false,
    "jupyter": {
     "outputs_hidden": false
    }
   },
   "outputs": [],
   "source": [
    "pagination = driver.find_element(By.CLASS_NAME, \"artdeco-pagination__pages\")\n",
    "pagination_buttons = pagination.find_elements(By.XPATH, './/button')\n",
    "# pagination_buttons[1].click()"
   ]
  },
  {
   "cell_type": "code",
   "execution_count": null,
   "metadata": {},
   "outputs": [
    {
     "data": {
      "text/plain": [
       "[<selenium.webdriver.remote.webelement.WebElement (session=\"701205e59b16a69e9fae2e86ae9cf297\", element=\"bf439995-b871-4890-80a7-7cafa4d32420\")>,\n",
       " <selenium.webdriver.remote.webelement.WebElement (session=\"701205e59b16a69e9fae2e86ae9cf297\", element=\"fae64dbc-c225-4504-ac6d-ce3fdac367e4\")>,\n",
       " <selenium.webdriver.remote.webelement.WebElement (session=\"701205e59b16a69e9fae2e86ae9cf297\", element=\"1655a866-2cdf-4024-b4ad-c910375f3156\")>,\n",
       " <selenium.webdriver.remote.webelement.WebElement (session=\"701205e59b16a69e9fae2e86ae9cf297\", element=\"d65fdff6-7d3a-4ef4-87f7-262d1caf072d\")>,\n",
       " <selenium.webdriver.remote.webelement.WebElement (session=\"701205e59b16a69e9fae2e86ae9cf297\", element=\"8cf5b9ec-2a15-4ee2-823d-dcdaccdf47c8\")>,\n",
       " <selenium.webdriver.remote.webelement.WebElement (session=\"701205e59b16a69e9fae2e86ae9cf297\", element=\"a91df700-363a-4822-a90f-1e1776075c86\")>,\n",
       " <selenium.webdriver.remote.webelement.WebElement (session=\"701205e59b16a69e9fae2e86ae9cf297\", element=\"cb856768-8cce-48ca-88b9-7cf373eb9e73\")>,\n",
       " <selenium.webdriver.remote.webelement.WebElement (session=\"701205e59b16a69e9fae2e86ae9cf297\", element=\"7020cb71-737b-4764-b995-1cb3f58b954b\")>,\n",
       " <selenium.webdriver.remote.webelement.WebElement (session=\"701205e59b16a69e9fae2e86ae9cf297\", element=\"6d7da296-d4b4-49f3-b465-e1c79f10c75f\")>,\n",
       " <selenium.webdriver.remote.webelement.WebElement (session=\"701205e59b16a69e9fae2e86ae9cf297\", element=\"9a61a365-7c49-4427-823a-2fde97fa8148\")>]"
      ]
     },
     "execution_count": 15,
     "metadata": {},
     "output_type": "execute_result"
    }
   ],
   "source": [
    "pagination_buttons"
   ]
  },
  {
   "cell_type": "markdown",
   "metadata": {},
   "source": [
    "## To Navigate through the pages"
   ]
  },
  {
   "cell_type": "markdown",
   "metadata": {},
   "source": [
    "## Get the Jobs Info"
   ]
  },
  {
   "cell_type": "code",
   "execution_count": null,
   "metadata": {
    "collapsed": false,
    "jupyter": {
     "outputs_hidden": false
    }
   },
   "outputs": [],
   "source": [
    "def get_job_skills():\n",
    "\n",
    "    # click display skills popup\n",
    "    wait_till_element_ready(By.CLASS_NAME, 'jobs-unified-top-card__job-insight-text-button')\n",
    "    # time.sleep(delay)\n",
    "    view_skills_button = driver.find_element(By.CLASS_NAME, 'jobs-unified-top-card__job-insight-text-button')\n",
    "    view_skills_button.click()\n",
    "\n",
    "    # get skills list\n",
    "    wait_till_element_ready(By.CLASS_NAME, \"job-details-skill-match-status-list\")\n",
    "    # time.sleep(delay)\n",
    "    skills_list = driver.find_element(By.CLASS_NAME, 'job-details-skill-match-status-list')\n",
    "\n",
    "    # get clean skills list\n",
    "    skills_list_clean = skills_list.text.split('\\n')\n",
    "    skills_list_clean = list(filter(lambda skill: skill != 'Add', skills_list_clean))\n",
    "\n",
    "    # close the skills list popup\n",
    "    wait_till_element_ready(By.CLASS_NAME, 'artdeco-modal__dismiss')\n",
    "    # time.sleep(delay)\n",
    "    close_popup_button = driver.find_element(By.CLASS_NAME, 'artdeco-modal__dismiss')\n",
    "    close_popup_button.click()\n",
    "\n",
    "    return skills_list_clean\n"
   ]
  },
  {
   "cell_type": "code",
   "execution_count": null,
   "metadata": {
    "collapsed": false,
    "jupyter": {
     "outputs_hidden": false
    }
   },
   "outputs": [],
   "source": [
    "# Get the results of the first page\n",
    "wait_till_element_ready(By.CLASS_NAME, \"jobs-search-results__list-item\")\n",
    "# time.sleep(delay)\n",
    "jobs_list = driver.find_elements(By.CLASS_NAME, \"jobs-search-results__list-item\")\n",
    "\n",
    "jobs = []\n",
    "for job in jobs_list:\n",
    "\n",
    "    time.sleep(delay)\n",
    "    # scroll the job div into view\n",
    "    driver.execute_script(\"arguments[0].scrollIntoView();\", job)\n",
    "    job.click()\n",
    "    # time.sleep(delay)\n",
    "\n",
    "    # get the position company, location, and remote/on-site\n",
    "    try:\n",
    "        [position, company, location, work_mode] = job.text.split('\\n')[:4]\n",
    "        break\n",
    "    except ValueError:\n",
    "        position = job.text.split('\\n')\n",
    "        [company, location, work_mode] = ''\n",
    "        print('job.text.split Error', job.text.split('\\n'))\n",
    "\n",
    "    # get skills list for the job\n",
    "    skills = get_job_skills()\n",
    "\n",
    "    # description\n",
    "    description = driver.find_elements(By.CLASS_NAME, \"jobs-description-content__text\")\n",
    "\n",
    "    # all the details\n",
    "    # details = driver.find_element(By.ID, \"job-details\").text\n",
    "\n",
    "    # do what you want with that info...\n",
    "    jobs.append([position, company, location, work_mode, skills, description])"
   ]
  },
  {
   "cell_type": "markdown",
   "metadata": {},
   "source": [
    "Profile - Profil recherché - About You\n",
    "Skills - Requirements - Position Requirements - Qualifications - Basic Qualifications - Expérience - Éxigences - Compétences - QUALITÉS\n",
    "Atouts - Preferred Qualifications - Autres exigences"
   ]
  },
  {
   "cell_type": "code",
   "execution_count": null,
   "metadata": {
    "collapsed": false,
    "jupyter": {
     "outputs_hidden": false
    }
   },
   "outputs": [
    {
     "data": {
      "text/plain": [
       "'SQL\\nCommunication\\nAdd\\nDrones\\nAdd\\nFull-Stack Development\\nAdd\\nHTML\\nAdd\\nInformation Technology\\nAdd\\nJavaScript\\nAdd\\nNetworking\\nAdd\\nProcedural Programming\\nAdd\\nTechnical Support\\nAdd'"
      ]
     },
     "execution_count": 114,
     "metadata": {},
     "output_type": "execute_result"
    }
   ],
   "source": [
    "jobs[0][4]"
   ]
  },
  {
   "cell_type": "markdown",
   "metadata": {},
   "source": [
    "# Connect to SQL Server"
   ]
  },
  {
   "cell_type": "code",
   "execution_count": null,
   "metadata": {
    "collapsed": false,
    "jupyter": {
     "outputs_hidden": false
    }
   },
   "outputs": [],
   "source": [
    "# !pip install pypyodbc"
   ]
  },
  {
   "cell_type": "code",
   "execution_count": null,
   "metadata": {
    "collapsed": false,
    "jupyter": {
     "outputs_hidden": false
    }
   },
   "outputs": [
    {
     "name": "stdout",
     "output_type": "stream",
     "text": [
      "<pypyodbc.Connection object at 0x0000025D5ECF39A0>\n"
     ]
    }
   ],
   "source": [
    "import pypyodbc as odbc\n",
    "\n",
    "DRIVER_NAME = 'SQL Server'\n",
    "SERVER_NAME = '.'\n",
    "DATABASE_NAME = 'LinkedIn'\n",
    "\n",
    "connection_string = f\"\"\"\n",
    "    DRIVER={{{DRIVER_NAME}}};\n",
    "    SERVER={{{SERVER_NAME}}};\n",
    "    DATABASE={{{DATABASE_NAME}}};\n",
    "    Trust_Connection=yes;\n",
    "\"\"\"\n",
    "\n",
    "conn = odbc.connect(connectString=connection_string)\n",
    "print(conn)"
   ]
  },
  {
   "cell_type": "markdown",
   "metadata": {},
   "source": [
    "### Fetch jobs"
   ]
  },
  {
   "cell_type": "code",
   "execution_count": null,
   "metadata": {
    "collapsed": false,
    "jupyter": {
     "outputs_hidden": false
    }
   },
   "outputs": [],
   "source": [
    "# # Execute a sample query\n",
    "# cursor.execute('SELECT * FROM your_table_name')\n",
    "# # Fetch the results of the query\n",
    "# rows = cursor.fetchall()\n",
    "# # Print the results\n",
    "# for row in rows:\n",
    "#     print(row)"
   ]
  },
  {
   "cell_type": "markdown",
   "metadata": {},
   "source": [
    "### Insert jobs into the database"
   ]
  },
  {
   "cell_type": "code",
   "execution_count": null,
   "metadata": {
    "collapsed": false,
    "jupyter": {
     "outputs_hidden": false
    }
   },
   "outputs": [],
   "source": [
    "def save_jobs(jobs):\n",
    "    \"\"\"\n",
    "    Inserts the jobs into the databse\n",
    "\n",
    "    :param jobs: jobs to be inserted\n",
    "    :return:\n",
    "    \"\"\"\n",
    "    insert_query = \"INSERT INTO Jobs (position, company, location, work_mode, skills, details) VALUES (?, ?, ?, ?, ?, ?)\"\n",
    "\n",
    "    for job in jobs:\n",
    "        position = job[0]\n",
    "        company = job[1]\n",
    "        location = job[2]\n",
    "        work_mode = job[3]\n",
    "        skills = job[4]\n",
    "        details = job[5]\n",
    "\n",
    "        # transofrm skills array to string\n",
    "        skills_str = ','.join(skills)\n",
    "\n",
    "        # Define values to be inserted\n",
    "        values = (position, company, location, work_mode, skills_str, details)\n",
    "\n",
    "        # Execute insert statement\n",
    "        cursor.execute(insert_query, values)\n",
    "\n",
    "        # Commit changes to the database\n",
    "        conn.commit()"
   ]
  },
  {
   "cell_type": "code",
   "execution_count": null,
   "metadata": {
    "collapsed": false,
    "jupyter": {
     "outputs_hidden": false
    }
   },
   "outputs": [],
   "source": [
    "# Open Connexion\n",
    "cursor = conn.cursor()\n",
    "\n",
    "# save jobs\n",
    "save_jobs(jobs)"
   ]
  },
  {
   "cell_type": "markdown",
   "metadata": {},
   "source": [
    "### Close Connection"
   ]
  },
  {
   "cell_type": "code",
   "execution_count": null,
   "metadata": {
    "collapsed": false,
    "jupyter": {
     "outputs_hidden": false
    }
   },
   "outputs": [],
   "source": [
    "# Close the cursor and connection\n",
    "cursor.close()\n",
    "conn.close()"
   ]
  }
 ],
 "metadata": {
  "kernelspec": {
   "display_name": "Python 3 (ipykernel)",
   "language": "python",
   "name": "python3"
  },
  "language_info": {
   "codemirror_mode": {
    "name": "ipython",
    "version": 3
   },
   "file_extension": ".py",
   "mimetype": "text/x-python",
   "name": "python",
   "nbconvert_exporter": "python",
   "pygments_lexer": "ipython3",
   "version": "3.10.11"
  }
 },
 "nbformat": 4,
 "nbformat_minor": 4
}
