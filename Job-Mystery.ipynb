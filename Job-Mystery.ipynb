{
 "cells": [
  {
   "cell_type": "code",
   "execution_count": 1,
   "metadata": {
    "collapsed": true
   },
   "outputs": [],
   "source": [
    "# !pip install selenium"
   ]
  },
  {
   "cell_type": "markdown",
   "metadata": {
    "collapsed": false
   },
   "source": [
    "# Scraping Job info from LinkedIn\n",
    "\n",
    "<a href=\"https://medium.com/nerd-for-tech/linked-in-web-scraper-using-selenium-15189959b3ba\">Tutorial here.</a>\n"
   ]
  },
  {
   "cell_type": "code",
   "execution_count": 10,
   "metadata": {
    "collapsed": false
   },
   "outputs": [
    {
     "name": "stderr",
     "output_type": "stream",
     "text": [
      "C:\\Users\\balde\\AppData\\Local\\Temp\\ipykernel_10276\\3879882641.py:15: DeprecationWarning: executable_path has been deprecated, please pass in a Service object\n",
      "  driver = webdriver.Chrome(executable_path=driver_path)\n"
     ]
    }
   ],
   "source": [
    "import os\n",
    "import time\n",
    "import logging\n",
    "\n",
    "from selenium import webdriver\n",
    "from selenium.webdriver.common.keys import Keys\n",
    "from selenium.webdriver.common.by import By\n",
    "from selenium.webdriver.support.ui import WebDriverWait\n",
    "from selenium.webdriver.support import expected_conditions as EC\n",
    "from selenium.common.exceptions import TimeoutException, NoSuchElementException\n",
    "from dotenv import load_dotenv\n",
    "\n",
    "\n",
    "driver_path = \"geckodriver.exe\"\n",
    "driver = webdriver.Chrome(executable_path=driver_path)"
   ]
  },
  {
   "cell_type": "markdown",
   "metadata": {
    "collapsed": false
   },
   "source": [
    "## Authentication"
   ]
  },
  {
   "cell_type": "code",
   "execution_count": 11,
   "metadata": {
    "collapsed": false
   },
   "outputs": [],
   "source": [
    "# Set up environment variables in Powershell:\n",
    "\n",
    "# $Env:Email = \"email\"\n",
    "# echo $Env:Email"
   ]
  },
  {
   "cell_type": "code",
   "execution_count": 12,
   "metadata": {
    "collapsed": false
   },
   "outputs": [
    {
     "name": "stdout",
     "output_type": "stream",
     "text": [
      "baldebecaye10@gmail.com\n"
     ]
    }
   ],
   "source": [
    "delay = 5\n",
    "\n",
    "# load the credentials\n",
    "load_dotenv('credentials.env')\n",
    "\n",
    "# set credentials:\n",
    "email = os.getenv('Email')\n",
    "password = os.getenv('Password')\n",
    "print(email)"
   ]
  },
  {
   "cell_type": "code",
   "execution_count": 13,
   "metadata": {
    "collapsed": false
   },
   "outputs": [],
   "source": [
    "# Go to linkedin and login\n",
    "driver.get('https://www.linkedin.com/login')\n",
    "\n",
    "# TODO: Use event listeners\n",
    "# wait for the browser to load elements\n",
    "time.sleep(delay)\n",
    "\n",
    "driver.find_element(By.ID, \"username\").send_keys(email)\n",
    "driver.find_element(By.ID, \"password\").send_keys(password, Keys.ENTER)"
   ]
  },
  {
   "cell_type": "markdown",
   "metadata": {
    "collapsed": false
   },
   "source": [
    "## Search jobs by title and location"
   ]
  },
  {
   "cell_type": "code",
   "execution_count": 14,
   "metadata": {
    "collapsed": false
   },
   "outputs": [],
   "source": [
    "job_title = \"data science\"\n",
    "job_location = \"canada\""
   ]
  },
  {
   "cell_type": "code",
   "execution_count": 15,
   "metadata": {
    "collapsed": false
   },
   "outputs": [],
   "source": [
    "def wait_till_element_ready(by, selector):\n",
    "    \"\"\"\n",
    "    Wait for a given element to be ready\n",
    "\n",
    "    :param by: the selector strategy. E.g.: By.ID, By.CLASS_NAME, etc.\n",
    "    :param selector: the CSS selector according to the \"By\" strategy. E.g.: 'class name', 'id', etc.\n",
    "    :return:\n",
    "    \"\"\"\n",
    "\n",
    "    colors = {'WARNING': '\\033[93m', 'ERROR': '\\033[91m'}\n",
    "    try:\n",
    "        WebDriverWait(driver, 8).until(EC.presence_of_element_located((by, selector)))\n",
    "        time.sleep(delay)\n",
    "    except TimeoutException:\n",
    "        print(colors['WARNING'] + \"Warning: Element has not been loaded!\")\n",
    "        pass"
   ]
  },
  {
   "cell_type": "code",
   "execution_count": 16,
   "metadata": {
    "collapsed": false
   },
   "outputs": [
    {
     "name": "stdout",
     "output_type": "stream",
     "text": [
      "Found 5 search_bars\n"
     ]
    }
   ],
   "source": [
    "driver.get(\"https://www.linkedin.com/jobs/\")\n",
    "# time.sleep(delay)\n",
    "\n",
    "# find the two search boxes: title and location\n",
    "wait_till_element_ready(By.CLASS_NAME, \"jobs-search-box__text-input\")\n",
    "search_bars = driver.find_elements(By.CLASS_NAME, \"jobs-search-box__text-input\")\n",
    "print('Found', len(search_bars), 'search_bars')\n",
    "\n",
    "# enter job title in the search  by keyword bar\n",
    "search_by_keyword_bar = search_bars[0]\n",
    "search_by_keyword_bar.send_keys(job_title)\n",
    "\n",
    "time.sleep(3)\n",
    "# enter job location in the search by location bar\n",
    "search_by_location_bar = search_bars[3]\n",
    "search_by_location_bar.send_keys(job_location, Keys.RETURN)"
   ]
  },
  {
   "attachments": {},
   "cell_type": "markdown",
   "metadata": {
    "collapsed": false
   },
   "source": [
    "## Get other Pages"
   ]
  },
  {
   "cell_type": "code",
   "execution_count": 18,
   "metadata": {
    "collapsed": false
   },
   "outputs": [],
   "source": [
    "pagination = driver.find_element(By.CLASS_NAME, \"artdeco-pagination__pages\")\n",
    "pagination_buttons = pagination.find_elements(By.XPATH, './/button')\n",
    "# pagination_buttons[1].click()"
   ]
  },
  {
   "cell_type": "code",
   "execution_count": 20,
   "metadata": {},
   "outputs": [
    {
     "data": {
      "text/plain": [
       "[<selenium.webdriver.remote.webelement.WebElement (session=\"00742812ef3422a863c3a6b243a74fd4\", element=\"fc0fd1e0-e8e6-475a-9170-82b0b9855444\")>,\n",
       " <selenium.webdriver.remote.webelement.WebElement (session=\"00742812ef3422a863c3a6b243a74fd4\", element=\"07274d79-5831-4f92-be10-3c42cce0f862\")>,\n",
       " <selenium.webdriver.remote.webelement.WebElement (session=\"00742812ef3422a863c3a6b243a74fd4\", element=\"add95660-f0a9-4975-9f4a-04e1e17eee60\")>,\n",
       " <selenium.webdriver.remote.webelement.WebElement (session=\"00742812ef3422a863c3a6b243a74fd4\", element=\"c38b3f80-20ab-49c4-bc70-49f0876b3019\")>,\n",
       " <selenium.webdriver.remote.webelement.WebElement (session=\"00742812ef3422a863c3a6b243a74fd4\", element=\"3e5141ad-2c42-4406-8f49-a4fb4218ee1b\")>,\n",
       " <selenium.webdriver.remote.webelement.WebElement (session=\"00742812ef3422a863c3a6b243a74fd4\", element=\"ab810c02-7183-4eb2-88ff-16b4e434069a\")>,\n",
       " <selenium.webdriver.remote.webelement.WebElement (session=\"00742812ef3422a863c3a6b243a74fd4\", element=\"c4b08586-f983-459c-b789-13685bb6db2e\")>,\n",
       " <selenium.webdriver.remote.webelement.WebElement (session=\"00742812ef3422a863c3a6b243a74fd4\", element=\"4a758c8a-dcfa-43a2-9d8b-306d4f20f8e4\")>,\n",
       " <selenium.webdriver.remote.webelement.WebElement (session=\"00742812ef3422a863c3a6b243a74fd4\", element=\"55b67a7e-bec5-40f5-aeca-2244e3eab915\")>,\n",
       " <selenium.webdriver.remote.webelement.WebElement (session=\"00742812ef3422a863c3a6b243a74fd4\", element=\"7a57ecdf-3a04-408b-a448-60bb41d44519\")>]"
      ]
     },
     "execution_count": 20,
     "metadata": {},
     "output_type": "execute_result"
    }
   ],
   "source": [
    "pagination_buttons"
   ]
  },
  {
   "cell_type": "markdown",
   "metadata": {
    "collapsed": false
   },
   "source": [
    "## To Navigate through the pages"
   ]
  },
  {
   "cell_type": "markdown",
   "metadata": {
    "collapsed": false
   },
   "source": [
    "## Get the Jobs Info"
   ]
  },
  {
   "cell_type": "code",
   "execution_count": null,
   "metadata": {
    "collapsed": false
   },
   "outputs": [],
   "source": [
    "def get_job_skills():\n",
    "\n",
    "    # click display skills popup\n",
    "    wait_till_element_ready(By.CLASS_NAME, 'jobs-unified-top-card__job-insight-text-button')\n",
    "    # time.sleep(delay)\n",
    "    view_skills_button = driver.find_element(By.CLASS_NAME, 'jobs-unified-top-card__job-insight-text-button')\n",
    "    view_skills_button.click()\n",
    "\n",
    "    # get skills list\n",
    "    wait_till_element_ready(By.CLASS_NAME, \"job-details-skill-match-status-list\")\n",
    "    # time.sleep(delay)\n",
    "    skills_list = driver.find_element(By.CLASS_NAME, 'job-details-skill-match-status-list')\n",
    "\n",
    "    # get clean skills list\n",
    "    skills_list_clean = skills_list.text.split('\\n')\n",
    "    skills_list_clean = list(filter(lambda skill: skill != 'Add', skills_list_clean))\n",
    "\n",
    "    # close the skills list popup\n",
    "    wait_till_element_ready(By.CLASS_NAME, 'artdeco-modal__dismiss')\n",
    "    # time.sleep(delay)\n",
    "    close_popup_button = driver.find_element(By.CLASS_NAME, 'artdeco-modal__dismiss')\n",
    "    close_popup_button.click()\n",
    "\n",
    "    return skills_list_clean\n"
   ]
  },
  {
   "cell_type": "code",
   "execution_count": null,
   "metadata": {
    "collapsed": false
   },
   "outputs": [],
   "source": [
    "# Get the results of the first page\n",
    "wait_till_element_ready(By.CLASS_NAME, \"jobs-search-results__list-item\")\n",
    "# time.sleep(delay)\n",
    "jobs_list = driver.find_elements(By.CLASS_NAME, \"jobs-search-results__list-item\")\n",
    "\n",
    "jobs = []\n",
    "for job in jobs_list:\n",
    "\n",
    "    time.sleep(delay)\n",
    "    # scroll the job div into view\n",
    "    driver.execute_script(\"arguments[0].scrollIntoView();\", job)\n",
    "    job.click()\n",
    "    # time.sleep(delay)\n",
    "\n",
    "    # get the position company, location, and remote/on-site\n",
    "    try:\n",
    "        [position, company, location, work_mode] = job.text.split('\\n')[:4]\n",
    "        break\n",
    "    except ValueError:\n",
    "        position = job.text.split('\\n')\n",
    "        [company, location, work_mode] = ''\n",
    "        print('job.text.split Error', job.text.split('\\n'))\n",
    "\n",
    "    # get skills list for the job\n",
    "    skills = get_job_skills()\n",
    "\n",
    "    # description\n",
    "    description = driver.find_elements(By.CLASS_NAME, \"jobs-description-content__text\")\n",
    "\n",
    "    # all the details\n",
    "    # details = driver.find_element(By.ID, \"job-details\").text\n",
    "\n",
    "    # do what you want with that info...\n",
    "    jobs.append([position, company, location, work_mode, skills, description])"
   ]
  },
  {
   "cell_type": "markdown",
   "metadata": {
    "collapsed": false
   },
   "source": [
    "Profile - Profil recherché - About You\n",
    "Skills - Requirements - Position Requirements - Qualifications - Basic Qualifications - Expérience - Éxigences - Compétences - QUALITÉS\n",
    "Atouts - Preferred Qualifications - Autres exigences"
   ]
  },
  {
   "cell_type": "code",
   "execution_count": null,
   "metadata": {
    "collapsed": false
   },
   "outputs": [
    {
     "data": {
      "text/plain": [
       "'SQL\\nCommunication\\nAdd\\nDrones\\nAdd\\nFull-Stack Development\\nAdd\\nHTML\\nAdd\\nInformation Technology\\nAdd\\nJavaScript\\nAdd\\nNetworking\\nAdd\\nProcedural Programming\\nAdd\\nTechnical Support\\nAdd'"
      ]
     },
     "execution_count": 114,
     "metadata": {},
     "output_type": "execute_result"
    }
   ],
   "source": [
    "jobs[0][4]"
   ]
  },
  {
   "cell_type": "markdown",
   "metadata": {
    "collapsed": false
   },
   "source": [
    "# Connect to SQL Server"
   ]
  },
  {
   "cell_type": "code",
   "execution_count": null,
   "metadata": {
    "collapsed": false
   },
   "outputs": [],
   "source": [
    "# !pip install pypyodbc"
   ]
  },
  {
   "cell_type": "code",
   "execution_count": null,
   "metadata": {
    "collapsed": false
   },
   "outputs": [
    {
     "name": "stdout",
     "output_type": "stream",
     "text": [
      "<pypyodbc.Connection object at 0x0000025D5ECF39A0>\n"
     ]
    }
   ],
   "source": [
    "import pypyodbc as odbc\n",
    "\n",
    "DRIVER_NAME = 'SQL Server'\n",
    "SERVER_NAME = '.'\n",
    "DATABASE_NAME = 'LinkedIn'\n",
    "\n",
    "connection_string = f\"\"\"\n",
    "    DRIVER={{{DRIVER_NAME}}};\n",
    "    SERVER={{{SERVER_NAME}}};\n",
    "    DATABASE={{{DATABASE_NAME}}};\n",
    "    Trust_Connection=yes;\n",
    "\"\"\"\n",
    "\n",
    "conn = odbc.connect(connectString=connection_string)\n",
    "print(conn)"
   ]
  },
  {
   "attachments": {},
   "cell_type": "markdown",
   "metadata": {},
   "source": [
    "### Fetch jobs"
   ]
  },
  {
   "cell_type": "code",
   "execution_count": null,
   "metadata": {
    "collapsed": false
   },
   "outputs": [],
   "source": [
    "# # Execute a sample query\n",
    "# cursor.execute('SELECT * FROM your_table_name')\n",
    "# # Fetch the results of the query\n",
    "# rows = cursor.fetchall()\n",
    "# # Print the results\n",
    "# for row in rows:\n",
    "#     print(row)"
   ]
  },
  {
   "cell_type": "markdown",
   "metadata": {
    "collapsed": false
   },
   "source": [
    "### Insert jobs into the database"
   ]
  },
  {
   "cell_type": "code",
   "execution_count": null,
   "metadata": {
    "collapsed": false
   },
   "outputs": [],
   "source": [
    "def save_jobs(jobs):\n",
    "    \"\"\"\n",
    "    Inserts the jobs into the databse\n",
    "\n",
    "    :param jobs: jobs to be inserted\n",
    "    :return:\n",
    "    \"\"\"\n",
    "    insert_query = \"INSERT INTO Jobs (position, company, location, work_mode, skills, details) VALUES (?, ?, ?, ?, ?, ?)\"\n",
    "\n",
    "    for job in jobs:\n",
    "        position = job[0]\n",
    "        company = job[1]\n",
    "        location = job[2]\n",
    "        work_mode = job[3]\n",
    "        skills = job[4]\n",
    "        details = job[5]\n",
    "\n",
    "        # transofrm skills array to string\n",
    "        skills_str = ','.join(skills)\n",
    "\n",
    "        # Define values to be inserted\n",
    "        values = (position, company, location, work_mode, skills_str, details)\n",
    "\n",
    "        # Execute insert statement\n",
    "        cursor.execute(insert_query, values)\n",
    "\n",
    "        # Commit changes to the database\n",
    "        conn.commit()"
   ]
  },
  {
   "cell_type": "code",
   "execution_count": null,
   "metadata": {
    "collapsed": false
   },
   "outputs": [],
   "source": [
    "# Open Connexion\n",
    "cursor = conn.cursor()\n",
    "\n",
    "# save jobs\n",
    "save_jobs(jobs)"
   ]
  },
  {
   "cell_type": "markdown",
   "metadata": {
    "collapsed": false
   },
   "source": [
    "### Close Connection"
   ]
  },
  {
   "cell_type": "code",
   "execution_count": null,
   "metadata": {
    "collapsed": false
   },
   "outputs": [],
   "source": [
    "# Close the cursor and connection\n",
    "cursor.close()\n",
    "conn.close()"
   ]
  }
 ],
 "metadata": {
  "kernelspec": {
   "display_name": "Python 3",
   "language": "python",
   "name": "python3"
  },
  "language_info": {
   "codemirror_mode": {
    "name": "ipython",
    "version": 3
   },
   "file_extension": ".py",
   "mimetype": "text/x-python",
   "name": "python",
   "nbconvert_exporter": "python",
   "pygments_lexer": "ipython3",
   "version": "3.10.10"
  }
 },
 "nbformat": 4,
 "nbformat_minor": 0
}
